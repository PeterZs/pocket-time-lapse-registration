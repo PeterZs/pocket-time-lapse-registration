{
 "cells": [
  {
   "cell_type": "code",
   "execution_count": 1,
   "metadata": {
    "ExecuteTime": {
     "end_time": "2025-06-11T00:57:45.632320Z",
     "start_time": "2025-06-11T00:57:44.812234Z"
    }
   },
   "outputs": [],
   "source": [
    "import ptlreg.apy\n",
    "import ptlreg.apy.amedia\n",
    "from ptlreg.apy.testing import *"
   ]
  },
  {
   "cell_type": "code",
   "execution_count": 1,
   "metadata": {
    "ExecuteTime": {
     "end_time": "2025-06-11T00:57:45.632784Z",
     "start_time": "2025-06-11T00:57:45.607739Z"
    }
   },
   "outputs": [],
   "source": []
  },
  {
   "cell_type": "code",
   "execution_count": 2,
   "metadata": {
    "pycharm": {
     "name": "#%%\n"
    },
    "ExecuteTime": {
     "end_time": "2025-06-11T00:57:45.951902Z",
     "start_time": "2025-06-11T00:57:45.880542Z"
    }
   },
   "outputs": [
    {
     "name": "stderr",
     "output_type": "stream",
     "text": [
      "testAObjectList (aobject.tests.test_list.ListTest.testAObjectList) ... ok\n",
      "testAObjectListSaveLoad (aobject.tests.test_list.ListTest.testAObjectListSaveLoad) ... ok\n",
      "test1 (aobject.tests.test_loading.LoadingTest.test1) ... /Users/abedavis/Code/python/abepy/abepy_2025/abepy/apy/aobject/filepath/HasFilePath.py:68: UserWarning: file_path /Users/abedavis/Code/python/abepy/abepy_2025/abepy/apy/aobject/tests/tmp/test_loading_tempdir/ is a directory, not a file\n",
      "  warnings.warn(\"file_path {} is a directory, not a file\".format(file_path));\n",
      "ok\n",
      "test2 (aobject.tests.test_loading.LoadingTest.test2) ... ok\n",
      "testAObjectLoadSave (aobject.tests.test_loading.LoadingTest.testAObjectLoadSave) ... ok\n",
      "testAObjects (aobject.tests.test_loading.LoadingTest.testAObjects) ... ok\n",
      "testLoadDirectory (aobject.tests.test_loading.LoadingTest.testLoadDirectory) ... ok\n",
      "testLoadReferences (aobject.tests.test_loading.LoadingTest.testLoadReferences) ... ok\n",
      "testMoveDir (aobject.tests.test_loading.LoadingTest.testMoveDir) ... ok\n",
      "testRegisteredFunctions (aobject.tests.test_loading.LoadingTest.testRegisteredFunctions) ... ok\n",
      "testMoveDir (aobject.tests.test_pathchange.PathChangeTest.testMoveDir) ... /Users/abedavis/Code/python/abepy/abepy_2025/abepy/apy/aobject/filepath/HasFilePath.py:68: UserWarning: file_path /Users/abedavis/Code/python/abepy/abepy_2025/abepy/apy/aobject/tests/tmp/test_pathchange_tempdir/initial_dir is a directory, not a file\n",
      "  warnings.warn(\"file_path {} is a directory, not a file\".format(file_path));\n",
      "/Users/abedavis/Code/python/abepy/abepy_2025/abepy/apy/aobject/filepath/HasFilePath.py:68: UserWarning: file_path /Users/abedavis/Code/python/abepy/abepy_2025/abepy/apy/aobject/tests/tmp/test_pathchange_tempdir/new_parent_dir/new_dir is a directory, not a file\n",
      "  warnings.warn(\"file_path {} is a directory, not a file\".format(file_path));\n",
      "ok\n",
      "testRegisteredFunctions (aobject.tests.test_pathchange.PathChangeTest.testRegisteredFunctions) ... /Users/abedavis/Code/python/abepy/abepy_2025/abepy/apy/aobject/filepath/HasFilePath.py:68: UserWarning: file_path /Users/abedavis/Code/python/abepy/abepy_2025/abepy/apy/aobject/tests/tmp/test_pathchange_tempdir/ is a directory, not a file\n",
      "  warnings.warn(\"file_path {} is a directory, not a file\".format(file_path));\n",
      "ok\n",
      "testMoveDir (aobject.tests.test_saving.SavingTest.testMoveDir) ... ok\n",
      "testRegisteredFunctions (aobject.tests.test_saving.SavingTest.testRegisteredFunctions) ... /Users/abedavis/Code/python/abepy/abepy_2025/abepy/apy/aobject/filepath/HasFilePath.py:68: UserWarning: file_path /Users/abedavis/Code/python/abepy/abepy_2025/abepy/apy/aobject/tests/tmp/test_saving_tempdir/ is a directory, not a file\n",
      "  warnings.warn(\"file_path {} is a directory, not a file\".format(file_path));\n",
      "ok\n",
      "\n",
      "----------------------------------------------------------------------\n",
      "Ran 14 tests in 0.059s\n",
      "\n",
      "OK\n"
     ]
    }
   ],
   "source": [
    "\n",
    "TestModule(apy)"
   ]
  },
  {
   "cell_type": "code",
   "outputs": [
    {
     "name": "stderr",
     "output_type": "stream",
     "text": [
      "test1 (media.tests.test_image.ImageTest.test1) ... ok\n",
      "test1 (media.tests.test_video.VideoTest.test1) ... "
     ]
    },
    {
     "name": "stdout",
     "output_type": "stream",
     "text": [
      "getting test video in test1\n",
      "\u001B[34mLoading dramatic_squirrel.mp4...\u001B[0m\n",
      "got test video in test1\n",
      "\u001B[34mLoading TEMP_testwrite_dramatic_squirrel.mp4...\u001B[0m\n",
      "\u001B[34mMPY Writing /Users/abedavis/Code/python/abepy/abepy_2025/amedia/apymedia/media/tests/tmp/test_video_tempdir/testwrite_dramatic_squirrel.mp4\u001B[0m\n"
     ]
    },
    {
     "name": "stderr",
     "output_type": "stream",
     "text": [
      "ok\n",
      "testFuncs (media.tests.test_video.VideoTest.testFuncs) ... ok\n",
      "\n",
      "----------------------------------------------------------------------\n",
      "Ran 3 tests in 0.935s\n",
      "\n",
      "OK\n"
     ]
    },
    {
     "name": "stdout",
     "output_type": "stream",
     "text": [
      "\u001B[34mLoading testwrite_dramatic_squirrel.mp4...\u001B[0m\n",
      "getting test video in testFuncs\n",
      "\u001B[34mLoading dramatic_squirrel.mp4...\u001B[0m\n",
      "got test video in testFuncs\n"
     ]
    }
   ],
   "source": "TestModule(apy.amedia)",
   "metadata": {
    "collapsed": false,
    "ExecuteTime": {
     "end_time": "2025-06-11T00:57:47.492821Z",
     "start_time": "2025-06-11T00:57:46.550395Z"
    }
   },
   "execution_count": 3
  },
  {
   "cell_type": "code",
   "execution_count": null,
   "metadata": {},
   "outputs": [],
   "source": []
  }
 ],
 "metadata": {
  "kernelspec": {
   "display_name": "Python 3 (ipykernel)",
   "language": "python",
   "name": "python3"
  },
  "language_info": {
   "codemirror_mode": {
    "name": "ipython",
    "version": 3
   },
   "file_extension": ".py",
   "mimetype": "text/x-python",
   "name": "python",
   "nbconvert_exporter": "python",
   "pygments_lexer": "ipython3",
   "version": "3.11.13"
  },
  "pycharm": {
   "stem_cell": {
    "cell_type": "raw",
    "metadata": {
     "collapsed": false
    },
    "source": []
   }
  },
  "varInspector": {
   "cols": {
    "lenName": 16,
    "lenType": 16,
    "lenVar": 40
   },
   "kernels_config": {
    "python": {
     "delete_cmd_postfix": "",
     "delete_cmd_prefix": "del ",
     "library": "var_list.py",
     "varRefreshCmd": "print(var_dic_list())"
    },
    "r": {
     "delete_cmd_postfix": ") ",
     "delete_cmd_prefix": "rm(",
     "library": "var_list.r",
     "varRefreshCmd": "cat(var_dic_list()) "
    }
   },
   "types_to_exclude": [
    "module",
    "function",
    "builtin_function_or_method",
    "instance",
    "_Feature"
   ],
   "window_display": false
  }
 },
 "nbformat": 4,
 "nbformat_minor": 4
}
