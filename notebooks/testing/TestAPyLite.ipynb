{
 "cells": [
  {
   "cell_type": "code",
   "execution_count": 1,
   "metadata": {
    "ExecuteTime": {
     "end_time": "2025-06-10T20:41:35.717403Z",
     "start_time": "2025-06-10T20:41:35.448153Z"
    }
   },
   "outputs": [],
   "source": "import ptlreg.apy"
  },
  {
   "cell_type": "code",
   "execution_count": 2,
   "metadata": {
    "ExecuteTime": {
     "end_time": "2025-06-10T20:41:36.041301Z",
     "start_time": "2025-06-10T20:41:35.982058Z"
    },
    "pycharm": {
     "name": "#%%\n"
    }
   },
   "outputs": [
    {
     "name": "stderr",
     "output_type": "stream",
     "text": [
      "test_file_exists (core.tests.test_filepath.TestFilePath.test_file_exists) ... ok\n",
      "test_get_absolute_path (core.tests.test_filepath.TestFilePath.test_get_absolute_path) ... ok\n",
      "testAObjectList (core.tests.test_list.ListTest.testAObjectList) ... ok\n",
      "testAObjectListSaveLoad (core.tests.test_list.ListTest.testAObjectListSaveLoad) ... ok\n",
      "test1 (core.tests.test_loading.LoadingTest.test1) ... /Users/abedavis/Code/python/abepy/abepy_2025/abepy/apy/core/filepath/HasFilePath.py:79: UserWarning: file_path /Users/abedavis/Code/python/abepy/abepy_2025/abepy/apy/core/tests/tmp/test_loading_tempdir/ is a directory, not a file\n",
      "  warnings.warn(\"file_path {} is a directory, not a file\".format(file_path));\n",
      "ok\n",
      "test2 (core.tests.test_loading.LoadingTest.test2) ... ok\n",
      "testAObjectLoadSave (core.tests.test_loading.LoadingTest.testAObjectLoadSave) ... ok\n",
      "testAObjects (core.tests.test_loading.LoadingTest.testAObjects) ... ok\n",
      "testLoadDirectory (core.tests.test_loading.LoadingTest.testLoadDirectory) ... ok\n",
      "testLoadReferences (core.tests.test_loading.LoadingTest.testLoadReferences) ... ok\n",
      "testMoveDir (core.tests.test_loading.LoadingTest.testMoveDir) ... ok\n",
      "testRegisteredFunctions (core.tests.test_loading.LoadingTest.testRegisteredFunctions) ... ok\n",
      "testMoveDir (core.tests.test_pathchange.PathChangeTest.testMoveDir) ... /Users/abedavis/Code/python/abepy/abepy_2025/abepy/apy/core/filepath/HasFilePath.py:79: UserWarning: file_path /Users/abedavis/Code/python/abepy/abepy_2025/abepy/apy/core/tests/tmp/test_pathchange_tempdir/initial_dir is a directory, not a file\n",
      "  warnings.warn(\"file_path {} is a directory, not a file\".format(file_path));\n",
      "/Users/abedavis/Code/python/abepy/abepy_2025/abepy/apy/core/filepath/HasFilePath.py:79: UserWarning: file_path /Users/abedavis/Code/python/abepy/abepy_2025/abepy/apy/core/tests/tmp/test_pathchange_tempdir/new_parent_dir/new_dir is a directory, not a file\n",
      "  warnings.warn(\"file_path {} is a directory, not a file\".format(file_path));\n",
      "ok\n",
      "testRegisteredFunctions (core.tests.test_pathchange.PathChangeTest.testRegisteredFunctions) ... /Users/abedavis/Code/python/abepy/abepy_2025/abepy/apy/core/filepath/HasFilePath.py:79: UserWarning: file_path /Users/abedavis/Code/python/abepy/abepy_2025/abepy/apy/core/tests/tmp/test_pathchange_tempdir/ is a directory, not a file\n",
      "  warnings.warn(\"file_path {} is a directory, not a file\".format(file_path));\n",
      "ok\n",
      "testMoveDir (core.tests.test_saving.SavingTest.testMoveDir) ... ok\n",
      "testRegisteredFunctions (core.tests.test_saving.SavingTest.testRegisteredFunctions) ... /Users/abedavis/Code/python/abepy/abepy_2025/abepy/apy/core/filepath/HasFilePath.py:79: UserWarning: file_path /Users/abedavis/Code/python/abepy/abepy_2025/abepy/apy/core/tests/tmp/test_saving_tempdir/ is a directory, not a file\n",
      "  warnings.warn(\"file_path {} is a directory, not a file\".format(file_path));\n",
      "ok\n",
      "\n",
      "----------------------------------------------------------------------\n",
      "Ran 16 tests in 0.059s\n",
      "\n",
      "OK\n"
     ]
    }
   ],
   "source": [
    "from ptlreg.apy.testing import *\n",
    "TestModule(apy)"
   ]
  },
  {
   "cell_type": "code",
   "execution_count": null,
   "metadata": {},
   "outputs": [],
   "source": []
  }
 ],
 "metadata": {
  "kernelspec": {
   "display_name": "Python 3 (ipykernel)",
   "language": "python",
   "name": "python3"
  },
  "language_info": {
   "codemirror_mode": {
    "name": "ipython",
    "version": 3
   },
   "file_extension": ".py",
   "mimetype": "text/x-python",
   "name": "python",
   "nbconvert_exporter": "python",
   "pygments_lexer": "ipython3",
   "version": "3.11.13"
  },
  "pycharm": {
   "stem_cell": {
    "cell_type": "raw",
    "metadata": {
     "collapsed": false
    },
    "source": []
   }
  },
  "varInspector": {
   "cols": {
    "lenName": 16,
    "lenType": 16,
    "lenVar": 40
   },
   "kernels_config": {
    "python": {
     "delete_cmd_postfix": "",
     "delete_cmd_prefix": "del ",
     "library": "var_list.py",
     "varRefreshCmd": "print(var_dic_list())"
    },
    "r": {
     "delete_cmd_postfix": ") ",
     "delete_cmd_prefix": "rm(",
     "library": "var_list.r",
     "varRefreshCmd": "cat(var_dic_list()) "
    }
   },
   "types_to_exclude": [
    "module",
    "function",
    "builtin_function_or_method",
    "instance",
    "_Feature"
   ],
   "window_display": false
  }
 },
 "nbformat": 4,
 "nbformat_minor": 4
}
