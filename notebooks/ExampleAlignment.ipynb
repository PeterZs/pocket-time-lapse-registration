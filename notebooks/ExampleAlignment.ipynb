{
 "cells": [
  {
   "cell_type": "code",
   "execution_count": null,
   "id": "6c3ecb3a-64d3-4eeb-9243-e282c3ad2033",
   "metadata": {},
   "outputs": [],
   "source": [
    "from ptlreg import *\n",
    "from ptlreg.CommonImports import *\n",
    "from ptlreg.AlignStructuredDataset import AlignStructuredData\n",
    "from ptlreg.AlignUnstructuredDataset import AlignUnstructuredDataset"
   ]
  },
  {
   "cell_type": "code",
   "execution_count": null,
   "id": "d4efd7da-34f9-42a4-97d0-125b755f43dd",
   "metadata": {},
   "outputs": [],
   "source": [
    "from ptlreg.test_data import *\n",
    "structured_primary_source_dir = get_structured_test_data_primary_dir()\n",
    "structured_secondary_source_dir = get_structured_test_data_secondary_dir()\n",
    "unstructured_source_dir = get_unstructured_test_data_dir()"
   ]
  },
  {
   "cell_type": "code",
   "execution_count": null,
   "id": "40eb0b13-d58d-4604-8cec-ac69ab318206",
   "metadata": {},
   "outputs": [],
   "source": [
    "target_name = \"structured_test\"\n",
    "output_dir = \"./test_ptlreg/\"\n",
    "ct = CaptureTarget(os.path.join(output_dir,target_name), target_name)\n",
    "ct.pull_directory_to_primaries(structured_primary_source_dir)\n",
    "ct.samples[0].get_image().show()"
   ]
  },
  {
   "cell_type": "markdown",
   "id": "9efa97c4-f0e1-4283-9ab4-c113e19a3f3d",
   "metadata": {},
   "source": [
    "## Align structured dataset\n",
    "Needs a primary and secondary source directory, an output directory, and a target name.\n",
    "Will copy files over to new folder in output directory with the target name.\n"
   ]
  },
  {
   "cell_type": "code",
   "execution_count": null,
   "id": "b87a9636-19e9-4d27-9ec5-cd53470d730f",
   "metadata": {
    "scrolled": true
   },
   "outputs": [],
   "source": [
    "target_name = \"structured_test\"\n",
    "output_dir = \"./test_ptlreg/\"\n",
    "make_sure_dir_exists(output_dir)\n",
    "\n",
    "AlignStructuredData(\n",
    "    target_name=target_name,\n",
    "    output_dir = output_dir,\n",
    "    primaries_source_dir=structured_primary_source_dir,\n",
    "    secondaries_source_dir=structured_secondary_source_dir,\n",
    ")"
   ]
  },
  {
   "cell_type": "code",
   "execution_count": null,
   "id": "87ede488-06d3-4806-9717-e1ef5aa63112",
   "metadata": {},
   "outputs": [],
   "source": [
    "ct = CaptureTarget(os.path.join(output_dir, target_name), target_name)\n",
    "ct.get_aligned_panos()[0].get_image().show()"
   ]
  },
  {
   "cell_type": "code",
   "execution_count": null,
   "id": "b351feb0-4071-46dd-a090-245a10866d5e",
   "metadata": {},
   "outputs": [],
   "source": [
    "ct.show_in_finder()"
   ]
  },
  {
   "cell_type": "code",
   "execution_count": null,
   "id": "617c9839-633e-4710-9f4c-b7bf2dc47529",
   "metadata": {},
   "outputs": [],
   "source": []
  },
  {
   "cell_type": "markdown",
   "id": "cf30932c-5a7c-4569-b4dd-2e2ab05f97d5",
   "metadata": {},
   "source": [
    "## Unstructured Dataset\n",
    "Warning: this test dataset uses very big images, so the outputs are quite large (~6k) and the test may be a bit slow to run."
   ]
  },
  {
   "cell_type": "code",
   "execution_count": null,
   "id": "70d526d4-ceeb-4c47-bb29-457fe8a9a512",
   "metadata": {},
   "outputs": [],
   "source": [
    "target_name = \"unstructured_test\"\n",
    "output_dir = \"./test_ptlreg/\"\n",
    "make_sure_dir_exists(output_dir)\n",
    "\n",
    "AlignUnstructuredDataset(\n",
    "    target_name=target_name,\n",
    "    output_dir=output_dir,\n",
    "    source_dir=unstructured_source_dir,\n",
    "    seconds_before_new_primary=30\n",
    ")"
   ]
  },
  {
   "cell_type": "code",
   "execution_count": null,
   "id": "6d0be338-9db5-40c0-bb65-30104629d881",
   "metadata": {},
   "outputs": [],
   "source": [
    "ct = CaptureTarget(os.path.join(output_dir, target_name), target_name)\n",
    "ct.get_aligned_panos()[0].get_image().show()"
   ]
  },
  {
   "cell_type": "code",
   "execution_count": null,
   "id": "e1ea38ef-2a3d-4d8f-8195-d4c28f21ee4a",
   "metadata": {},
   "outputs": [],
   "source": []
  }
 ],
 "metadata": {
  "kernelspec": {
   "display_name": "Python 3 (ipykernel)",
   "language": "python",
   "name": "python3"
  },
  "language_info": {
   "codemirror_mode": {
    "name": "ipython",
    "version": 3
   },
   "file_extension": ".py",
   "mimetype": "text/x-python",
   "name": "python",
   "nbconvert_exporter": "python",
   "pygments_lexer": "ipython3",
   "version": "3.12.11"
  }
 },
 "nbformat": 4,
 "nbformat_minor": 5
}
